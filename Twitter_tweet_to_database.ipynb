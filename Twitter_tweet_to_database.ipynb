{
 "cells": [
  {
   "cell_type": "code",
   "execution_count": 1,
   "metadata": {},
   "outputs": [],
   "source": [
    "import tweepy\n",
    "import csv\n",
    "import sqlite3\n",
    "import pandas as pd\n",
    "import re\n",
    "from nltk.corpus import stopwords\n",
    "from nltk.tokenize import word_tokenize\n",
    "from Sastrawi.Stemmer.StemmerFactory import StemmerFactory"
   ]
  },
  {
   "cell_type": "code",
   "execution_count": 2,
   "metadata": {},
   "outputs": [],
   "source": [
    "#twitter\n",
    "token_data = open(\"Tugas Sanbercode/twittertoken.csv\")\n",
    "tokens = csv.reader(token_data,delimiter=',')\n",
    "\n",
    "data_token = [row[2] for row in tokens]\n",
    "consumer_key = data_token[0]\n",
    "consumer_secret = data_token[1]\n",
    "access_token = data_token[2]\n",
    "access_token_secret = data_token[3]\n",
    "\n",
    "auth = tweepy.OAuthHandler(consumer_key, consumer_secret)\n",
    "auth.set_access_token(access_token, access_token_secret)\n",
    "api = tweepy.API(auth)"
   ]
  },
  {
   "cell_type": "code",
   "execution_count": 23,
   "metadata": {},
   "outputs": [],
   "source": [
    "#sql connection\n",
    "connect = sqlite3.connect(\"DB Browser SQLite/database_twitter.db\")\n",
    "cursor = connect.cursor()"
   ]
  },
  {
   "cell_type": "code",
   "execution_count": 4,
   "metadata": {},
   "outputs": [],
   "source": [
    "class tugas:\n",
    "    def __init__(self,topic='biden trump',max_tweet=200,start_date='2020-11-18',last_date='2020-11-27'):\n",
    "        new_topic = topic+'-filter:retweets'\n",
    "        #hasil = api.search(q=new_topic,count=max_tweet,tweet_mode='extended',lang='id',since=start_date,until=last_date)\n",
    "        hasil = [status for status in tweepy.Cursor(api.search,q=new_topic,count=max_tweet,tweet_mode='extended',lang='id',since=start_date,until=last_date).items(max_tweet)]\n",
    "        self.topic = topic\n",
    "        self.max_tweet = max_tweet\n",
    "        self.start_date = start_date\n",
    "        self.last_date = last_date\n",
    "        self.hasil = hasil\n",
    "    \n",
    "    def get_data(self):\n",
    "        text = [tweet.full_text for tweet in self.hasil]\n",
    "        tweetid = [tweet.id for tweet in self.hasil]\n",
    "        userid = [tweet.user.id for tweet in self.hasil]\n",
    "        created = [tweet.created_at for tweet in self.hasil]\n",
    "        name = [tweet.user.name for tweet in self.hasil]\n",
    "        screenname = [tweet.user.screen_name for tweet in self.hasil]\n",
    "        location = [tweet.user.location for tweet in self.hasil]\n",
    "        acc_created = [tweet.user.created_at for tweet in self.hasil]\n",
    "        follower = [tweet.user.followers_count for tweet in self.hasil]\n",
    "        friend = [tweet.user.friends_count for tweet in self.hasil]\n",
    "        verified = [tweet.user.verified for tweet in self.hasil]\n",
    "        return text,tweetid,userid,created,name,screenname,location,acc_created,follower,friend,verified\n",
    "    \n",
    "    def clean_data(self,data):\n",
    "        #casefolding\n",
    "        data1 = [item.lower() for item in data]\n",
    "        data2 = [re.sub(r\"\\d+\", \"\", item) for item in data1]\n",
    "        data3 = [' '.join(re.sub(\"(@[A-Za-z0-9]+)|([^0-9A-Za-z \\t])|(\\w+:\\/\\/\\S+)\", \" \", item).split()) for item in data2]\n",
    "        \n",
    "        #stopword (nltk)\n",
    "        output = []\n",
    "        for string in data3:\n",
    "            stop_words = set(stopwords.words('indonesian'))\n",
    "            word_tokens = word_tokenize(string) \n",
    "            data4 = ' '.join([word for word in word_tokens if not word in stop_words])\n",
    "\n",
    "        #stemming (sastrawi)\n",
    "            factory = StemmerFactory()\n",
    "            stemmer = factory.create_stemmer()\n",
    "            data5 = stemmer.stem(data4)\n",
    "            output.append(data5)\n",
    "        return output\n",
    "        \n",
    "    def save_sql(self,clean_tweet,mode):\n",
    "        cursor = connect.cursor()\n",
    "        if mode=='lastscraping':\n",
    "            scrap = 1\n",
    "            last_scraping = self.start_date\n",
    "            query_lastscraping = '''insert into Lastscraping (last_get,status) values (?,?);'''  \n",
    "            value = (last_scraping, scrap)  \n",
    "            cursor.execute(query_lastscraping,value)\n",
    "                \n",
    "        elif mode=='tweet':\n",
    "            #get last scraping_id\n",
    "            query_get_lastscraping = '''select max(scraping_id) from Lastscraping'''   \n",
    "            cursor.execute(query_get_lastscraping) \n",
    "            scraping = cursor.fetchone()\n",
    "            scraping = list(scraping)\n",
    "            scraping = scraping[0]\n",
    "            #get All tweet_id\n",
    "            query_get_tweetid = '''select tweet_id from Tweet'''   \n",
    "            cursor.execute(query_get_tweetid) \n",
    "            key1 = cursor.fetchall()\n",
    "            key2 = [str(item) for item in key1]\n",
    "            key3 = [' '.join(re.sub(\"(@[A-Za-z0-9]+)|([^0-9A-Za-z \\t])|(\\w+:\\/\\/\\S+)\", \" \", item).split()) for item in key2]\n",
    "            key4 = [int(item) for item in key3]\n",
    "            unique_tweet = key4\n",
    "            data_ke = 0\n",
    "            for tweet in self.hasil:\n",
    "                if tweet.id not in unique_tweet:\n",
    "                    unique_tweet.append(tweet.id)\n",
    "                    query_tweet = '''insert into Tweet (tweet_id,user_id,date_created,tweet,cleantweet,scraping_id) values (?,?,?,?,?,?);'''  \n",
    "                    value = (tweet.id,tweet.user.id,tweet.created_at,tweet.full_text,clean_tweet[data_ke],scraping)  \n",
    "                    cursor.execute(query_tweet,value) \n",
    "                    data_ke +=1\n",
    "            #return unique_tweet\n",
    "        \n",
    "        elif mode=='user':\n",
    "            #get All user_id\n",
    "            query_get_userid = '''select user_id from User'''   \n",
    "            cursor.execute(query_get_userid) \n",
    "            key1 = cursor.fetchall()\n",
    "            key2 = [str(item) for item in key1]\n",
    "            key3 = [' '.join(re.sub(\"(@[A-Za-z0-9]+)|([^0-9A-Za-z \\t])|(\\w+:\\/\\/\\S+)\", \" \", item).split()) for item in key2]\n",
    "            key4 = [int(item) for item in key3]\n",
    "            unique_user = key4\n",
    "            for tweet in self.hasil:\n",
    "                if tweet.user.id not in unique_user:\n",
    "                    unique_user.append(tweet.user.id)\n",
    "                    query_user = '''insert into User values (?,?,?,?,?,?,?,?);'''  \n",
    "                    value = (tweet.user.id,tweet.user.name,tweet.user.screen_name,tweet.user.location,tweet.user.created_at,tweet.user.followers_count,tweet.user.friends_count,tweet.user.verified)  \n",
    "                    cursor.execute(query_user,value)\n",
    "            #return unique_user\n",
    "                \n",
    "        else:\n",
    "            pass\n",
    "        connect.commit()\n",
    "        cursor.close()\n",
    "        #connect.close()\n",
    "        \n",
    "    def reset_scraping(self):\n",
    "        cursor = connect.cursor()\n",
    "        query_reset_lastscraping = '''UPDATE Lastscraping SET status=0;'''\n",
    "        cursor.execute(query_reset_lastscraping)\n",
    "        connect.commit()\n",
    "        cursor.close()"
   ]
  },
  {
   "cell_type": "code",
   "execution_count": 5,
   "metadata": {},
   "outputs": [
    {
     "name": "stdout",
     "output_type": "stream",
     "text": [
      "['Biden: Penolakan Trump terhadap Pemilu Sangat Tidak Bertanggungjawab\\n\\nhttps://t.co/qjWAN66ePs', '@zittokabwe KWA HIYO NA MAREKANI HAWAPEWI MISAADA HIYO?MHE DONALD TRUMP ANALALAMIKA KAIBIWA KURA!ANADAI KWAMBA MHE JOE BIDEN ALIKUWA NA MABEGI YA KURA ZILIZOKWISHA PIGWA ZIKAWA ZINATUMBUKIZWA KWENYE MASANDUKU! KAMA DUNIA INGEFATA AKILI ZENU,HAKUNA NCHI HATA MOJA INGEPATA MISAADA YENU HIYO!!! https://t.co/Sz61QgIoPM', 'Ga cuma Trump,  Mr Joe Biden.. https://t.co/1aP3Rm6CtW', 'HASIL HITUNG ULANG SUARA DI GEORGIA, TRUMP TETAP KALAH\\nBiden menyebut Trump sebagai presiden paling tidak bertanggung jawab dalam sejarah Amerika.\\nhttps://t.co/MDAckLQF2d', \"Joe Biden Sebut Donald Trump sebagai 'Presiden Paling Tidak Bertanggung Jawab dalam Sejarah AS'\\nhttps://t.co/BcwQ9kKkeo\", 'Geram, Biden Sebut Trump Keterlaluan https://t.co/1BxD2p60hb #Internasional', '@LynnRoseberry trump eai hiau kuan bi kok , joe biden xi chi kor kai nang, bei hiau kuan bi kok.', 'Biden Sebut Strategi Trump Menolak Mengaku\\xa0Kalah, “Keterlaluan” https://t.co/CGQwMp2ecJ', \"Joe Biden Sebut Donald Trump sebagai 'Presiden Paling Tidak Bertanggung Jawab dalam Sejarah AS' https://t.co/0TrzPUI0PM\", 'Sudah 3 sesi dan segala permasalahan ujung2nya perkara trump dan biden:))', '@EnockRutaihwa @MagufuliJP @tanpol @TCRA_Tz Nenda kwenye acc ya Trump ukitoka hao ingia ya Rais mteule Biden halafu urudi hapa vidole vipo vitano lakini kamwe havilingani na hauwezi kula muwa bila kukutana na fundo usiishi maisha ya visasi na ya kutaka kufurahishwa na kl mtu mwanadamu sio mkamilifu🙌', 'Rais wa Marekani Donald Trump amewaalika wabunge muhimu wa chama cha Republican kutoka jimbo la Michigan kwa mkutano katika white house, leo ijumaa, baada ya kushindwa katika kesi alizofikisha mahakamani kupinga ushindi wa rais mteule Joe Biden&gt;&gt;&gt;https://t.co/UnAuuXRyhl https://t.co/BWcF2aBQ13', '@BARKHASTAM @cna_srf @khaneshno Motavajeh shodam ghorban,na tarafdar biden va na trump.dige bahsi baghi nemimone,bebakhshid az in ke vaghteton ra greftam.', '@BARKHASTAM @cna_srf @khaneshno pas agar Tarafdar biden ham nistid va az trump ham khoshetan nemiad,khob pas chi?akhe hame yek taraf ra hemayet mikonand,ya bayed intarafi bashid ya on tarafi.bebakhshid ke vaghteton ra greftam,rooz bekhair.', \"Rais mteule wa Marekani Joe Biden amelaani kitendo cha Donald Trump kukubali kuwa ameshindwa katika uchaguzi wa rais, amesema kuwa 'anatuma ujumbe mbaya sana kuhusu Marekani'&gt;&gt;&gt;&gt;&gt;https://t.co/c8Cn4A0RNO https://t.co/rfHdVXJ3MC\", 'Pakar Hukum Pemilu: Sekeras Apa Pun Usaha Trump Gulingkan Hasil Pilpres, Biden Akan Tetap Masuk Oval Office Januari 2021 \\nhttps://t.co/K0FLdzt6Gn \\n\\n#TrumpTantrum \\n#TrumpvsBiden', 'Biden Sulit Pahami Cara Berpikir Trump https://t.co/aFZI0lyYTu', 'Penghitungan ulang suara, Presiden terpilih Joe Biden mempertahankan keunggulan yang lebih sempit tetapi masih menentukan, menyebabkan kemunduran lain pada upaya Presiden Donald Trump untuk membatalkan hasil https://t.co/UsFrhqx2s0', 'Pakar Hukum Pemilu: Sekeras Apa Pun Usaha Trump Gulingkan Hasil Pilpres, Biden Akan Tetap Masuk Oval Office Januari 2021 https://t.co/jsDTHyTvJg', 'Pernyataan Keras Biden Ditujukan kepada Trump, Pakai Kata\\xa0Mengerikan https://t.co/fwBUvSMqvK', 'New post (Pernyataan Keras Biden Ditujukan kepada Trump, Pakai Kata Mengerikan) has been published on Rakyat Sulsel - https://t.co/fwBUvT41ni https://t.co/XG8JjMe75P', '@IngrahamAngle Choose between lesser evil.  Trump vs   (Soros + Hillary + Biden + CCP + AOC + Ilhan Omar + Rashida Tlaib + ANTIFA + BLM)', '#MGTNews Presiden terpilih Amerika Serikat Joe Biden menyinggung sikap Donald Trump yang masih tidak mengakui hasil Pemilu AS 2020. Dalam pemilu itu, Biden mengalahkan Trump yang merupakan capres petahana. https://t.co/r2SCAY1cRV', 'GEORGIA! https://t.co/ymatuhf9oS', 'Sidney Powell= perwira militer pangkat tinggi \\nberpartisipasi dalam serangan besar-besaran ini.\\nhttps://t.co/hVXK2uMqjp\\nMichigan dan Georgia = di Pennsylvania POLA SAMA! MASSIVE Vote Dumps, pembuangan suara masif.\\nhttps://t.co/bhVLuN9cyb', 'Mohon maaf Mr. Trump, ini saatnya liberalisme bangkit!\\n\\nhttps://t.co/T9H6MSE2wD', 'Pendukung Trump ngamuk atas kemenangan Joe Biden.\\n\\nhttps://t.co/vsGwoonpbA', 'Presiden AS terpilih Joe Biden keluar sebagai pemenang di negara bagian Georgia setelah melakukan perhitungan ulang. Dilansir AP, Trump mendapatkan 1.400 suara untuk mengejar suara Biden, namun Biden masih tetap keluar sebagai pemenang di Georgia.', 'Biden Sebut Trump Presiden Paling Tak Bertanggung Jawab di AS https://t.co/PXjxW5lW7L', 'Biden Tuduh Trump Rusak Demokrasi karena Tolak Akui Kekalahan https://t.co/Hs8ERi4Z3P', \"Biden amesema 'Trump alijua kuwa hawezi kushinda uchaguzi'\\nhttps://t.co/3AsKzWCfZ8\", \"Joe Biden melontarkan kritikan tajam untuk Donald Trump terkait upayanya membalikkan hasil pilpres AS 2020. Biden menyebut Trump sebagai 'presiden paling tidak bertanggung jawab dalam sejarah Amerika'. #JoeBiden #DonaldTrump https://t.co/j3MqM7fK2Z\", 'Biden: Trump Akan Dicap Sebagai Salah Satu Presiden Paling Tidak Bertanggung Jawab Dalam Sejarah Amerika https://t.co/7Sbi5AydWr #trump', 'Biden memperoleh 306 undi pilihan raya berbanding 232 oleh Trump dalam undi elektoral negeri yang menentukan pemenang pilihan raya.\\n\\n#AWANInews #AWANIpagi #ASmemilih\\n\\nhttps://t.co/O0Snf6iTxh', 'Biden Sebut Sikap Trump Mengerikan… https://t.co/4DCouFZ5c6', 'Trump presiden paling tidak bertanggungjawab dalam sejarah AS - Biden | Astro Awani https://t.co/BSel9nCzT3', 'Rais mteule Joe Biden amemshambulia Rais Trump kwa kuzuia taarifa muhimu za hali ya kitaifa na kimataifa ambazo zinatakiwa kumfikia katika wakati huu wa kipindi cha mpito baada ya uchaguzi mkuu kabla ya kuapishwa. https://t.co/CVMWPl8TWY', 'Presiden terpilih Amerika Serikat, Joe Biden mengatakan penolakan Presiden AS Donald Trump terhadap hasil pemilihan presiden pada 3 November lalu sangat tidak bertanggung jawab. #KAMUHARUSTAU\\n\\nhttps://t.co/5sebQXVEZV', 'Joe Biden Geleng-Geleng Kepala Dengan Kelakuan Donald Trump https://t.co/pvcV3x4l9g', 'Presiden terpilih Joe Biden telah mengecam Donald Trump sebagai salah satu \" presiden paling tidak bertanggung jawab dalam sejarah Amerika\". / #Global https://t.co/YNfHmVP12T', 'Biden: Penolakan Trump Soal Pemilu tak Bertanggung Jawab https://t.co/WjKqSXDreV', 'Gugatan Trump Gugur, Suara di Negara Bagian Georgia Dimenangkan Biden https://t.co/jOktJzOs0Z', 'Direktur Perusahaan Penyedia Mesin Pemilu AS Jadi Tim Transisi Biden, Trump: This is Crazy !\\n\\nNonton video selengkapnya di: https://t.co/B3kf3HiXgl\\n\\n#Perusahaan #mesinpemiluAS #JoeBiden https://t.co/pprDXnwEIu', '\"Apa yang dia lakukannya adalah amat keterlaluan.\"\\n\\n#AWANInews #AWANIpagi #ASmemilih\\n\\nhttps://t.co/wOLYuutmMe', 'Trump belum kalah... Informasi di media mainstream kalo joe biden menang pilpres itu memang di setting globalist cabal yg menguasai media tersebut.\\n\\nPermainan belum usai saudara saudara.\\n\\n#TrumpBelumKalah', 'Joe Biden tetap mengungguli Donald Trump dalam penghitungan ulang suara di Georgia. #kumparanNews https://t.co/s5HtgAIAiW', 'Hasil audit suara pilpres AS 2020 di negara bagian Georgia mengukuhkan kemenangan Joe Biden atas Presiden Donald Trump. #JoeBiden #Georgia https://t.co/SFZitOr5le', 'Usa 2020: risultati Georgia; Biden 49,5%, Trump 49,3%', 'Presiden terpilih Amerika Serikat Joe Biden menyebut penolakan Presiden petahana Donald Trump terhadap hasil pemilihan presiden 3 November merupakan sikap yang sama sekali tidak bertanggung jawab. #KAMUHARUSTAU\\n\\nhttps://t.co/iy9MdnjCiw', 'Donald Trump Ajukan Tuntutan Hukum, Biden Langsung Bereaksi https://t.co/tWWe4uQTvM https://t.co/EBtdsPV16V', 'Kecam Donald Trump, Joe Biden : Presiden Paling Tidak Bertanggung Jawab dalam Sejarah Amerika', 'Joe Biden menyampaikan pernyataan keras ditujukan kepada Donald Trump, terkait hasil Pilpres AS 2020. #JoeBiden https://t.co/N9WeUArU0p', 'Trump arongeye aratsinzwe. Byemejwe na AUDIT bidasubirwaho ko amajwi 16 ya State ya Georgia ari aya Joe Biden . Muri iyo Audit Hari amajwi arenga 2500 atari yabazwe. Uwari ukuriye aho yabarirwaga yasabiwe kwirukana kuko ari ubwa 2 mu mezi 6 afatiwe ikosa .', 'Hitung Ulang Pilpres AS di Georgia Tegaskan Kemenangan Biden Atas Trump https://t.co/F8QGecJRNz', 'Biden: Penolakan Trump terhadap pemilu \"sangat tidak bertanggungjawab\" - ANTARA News Bengkulu https://t.co/EA1l0ItKVq', 'Joe Biden mengatakan bahwa penolakan Trump terhadap hasil pemilihan presiden Amerika 2020, telah mempengaruhi ia untuk tangani pandemi Covid-19. https://t.co/v3xApSiPPh', 'Biden: Trump Akan Dicap Sebagai Salah Satu Presiden Paling Tidak Bertanggung Jawab Dalam Sejarah Amerika\\nhttps://t.co/eOzFjRvqH8', 'Pengumuman ini membuatkan peluang Trump untuk mengubah keputusan pilihan raya semakin tipis.\\n\\nBaca di sini: https://t.co/JwOSqBRMOx', 'Biden unggul dengan suara tipis atas Presiden Donald Trump di Georgia https://t.co/Bd5Q6v6sYD', 'Joe Biden: Penolakan Trump terhadap hasil pemilu \"sangat tidak bertanggungjawab\" - ANTARA News Jawa Barat https://t.co/Z0k2OlAz7r', 'Audit manual itu dimulakan selepas keputusan tidak rasmi menunjukkan Biden mendahului Donald Trump kira-kira 14,000 undi. #FMTNews #JoeBiden #Georgia #PilihanrayaAmerikaSyarikat  https://t.co/KrYJzzuLvl', 'Joe Biden menyebut penolakan Donald Trump terhadap hasil pemilihan presiden\\xa0 3 November \"sama sekali tidak bertanggung jawab\". #Biden #Trump\\n\\nhttps://t.co/lfVJglbRhK', '@nikhil_palsingh Otoh: https://t.co/EX82cePuuF', 'Biden: Trump Presiden AS Paling Tak Bertanggung Jawab! https://t.co/YCsxf9WeZp', 'Langkah Panik Kubu Trump Menggulingkan Kemenangan Biden https://t.co/pTqfWNcVwR lewat @rri.co.id', 'Presiden terpilih Joe Biden telah mengecam Donald Trump sebagai salah satu \"presiden paling tidak bertanggung jawab dalam sejarah Amerika\". https://t.co/CQ9BV6iVNP', 'BOOM shakalaka! \\nhttps://t.co/xzQjozfpA5', '@HiIamMikeC @realDonaldTrump LGAA!!\\n\\nhttps://t.co/c5lifdHSIM', 'Logan Vs Ksi = Trump Vs Biden\\nWinner: Biden', 'Gegara Jegalan Trump, Biden Jadi Sulit Tangani Corona di AS https://t.co/UFmgHcnSCb']\n",
      "70\n"
     ]
    }
   ],
   "source": [
    "data = tugas(start_date='2020-11-20',last_date='2020-11-21')\n",
    "text,tweetid,userid,created,name,screenname,location,acc_created,follower,friend,verified = data.get_data()\n",
    "print(text)\n",
    "print(len(text))"
   ]
  },
  {
   "cell_type": "code",
   "execution_count": 6,
   "metadata": {},
   "outputs": [
    {
     "name": "stdout",
     "output_type": "stream",
     "text": [
      "[1329693870033027074, 1329686294751039488, 1329684823351259136, 1329683970368303107, 1329680732474654722, 1329680132827607045, 1329678051131629569, 1329672328326705152, 1329671450979041280, 1329667406541639680, 1329664941838786565, 1329660967333060609, 1329659068097601538, 1329658577712074758, 1329656029496430593, 1329653379153289216, 1329652588078268417, 1329651833518706695, 1329651699011653632, 1329649656746418176, 1329649638085849088, 1329649618767011840, 1329646913604509698, 1329644778275827712, 1329643249812729857, 1329641342692016128, 1329640612568690690, 1329637976377200640, 1329634122944286723, 1329634122491301888, 1329632534141997056, 1329632316818337793, 1329631554142752768, 1329630379204984835, 1329629047664439297, 1329627510724722688, 1329626771575037953, 1329626394184224768, 1329625592514408449, 1329624758204428289, 1329622502847307776, 1329621494758998017, 1329620483189313536, 1329620456207388673, 1329619642969509889, 1329618603633647617, 1329618368442273792, 1329616697687486469, 1329615378100617220, 1329615331933913088, 1329615328402235393, 1329612943202258946, 1329611658394804225, 1329611408816758785, 1329608874966433794, 1329608665532272642, 1329608565640753153, 1329608049871314944, 1329606960493182978, 1329606718653747200, 1329605494344884232, 1329600816785747968, 1329600581242028032, 1329598745189617664, 1329594433625493504, 1329593065556721665, 1329591610607341568, 1329587411714797568, 1329578967217664000, 1329577707328266242]\n"
     ]
    }
   ],
   "source": [
    "print(tweetid)"
   ]
  },
  {
   "cell_type": "code",
   "execution_count": 7,
   "metadata": {},
   "outputs": [
    {
     "name": "stdout",
     "output_type": "stream",
     "text": [
      "[207854679, 911665393663660033, 1297510664148103168, 124171593, 58880688, 939083912575197186, 2455899126, 75077164, 58880688, 43639669, 1300659818529730560, 1176129395414765568, 731746252795174913, 731746252795174913, 1176129395414765568, 423324860, 46693036, 2614834184, 2430442939, 578059643, 578059643, 1090116885398646784, 58886762, 543920571, 1132166502247886850, 1328040153940516864, 786549338818224128, 829366551446818816, 598959076, 17128975, 18186609, 69183155, 2430442939, 497665754, 118646322, 141515518, 237493762, 350668803, 332563924, 23343960, 998688530, 118646322, 916530767156568069, 497665754, 336355440, 759692754985242625, 69183155, 522078771, 350668803, 2553884263, 909359407, 79130206, 558466886, 231355136, 423220305, 23343960, 3319260420, 2575194188, 22126902, 1048117926794948608, 102098902, 18071520, 368662151, 598959076, 1129936609, 23343960, 1324456125186613255, 1310723840956301312, 1315788739298369537, 30617522]\n"
     ]
    }
   ],
   "source": [
    "print(userid)"
   ]
  },
  {
   "cell_type": "code",
   "execution_count": 8,
   "metadata": {},
   "outputs": [
    {
     "name": "stdout",
     "output_type": "stream",
     "text": [
      "[datetime.datetime(2020, 11, 20, 7, 51, 37), datetime.datetime(2020, 11, 20, 7, 21, 31), datetime.datetime(2020, 11, 20, 7, 15, 40), datetime.datetime(2020, 11, 20, 7, 12, 17), datetime.datetime(2020, 11, 20, 6, 59, 25), datetime.datetime(2020, 11, 20, 6, 57, 2), datetime.datetime(2020, 11, 20, 6, 48, 46), datetime.datetime(2020, 11, 20, 6, 26, 1), datetime.datetime(2020, 11, 20, 6, 22, 32), datetime.datetime(2020, 11, 20, 6, 6, 28), datetime.datetime(2020, 11, 20, 5, 56, 40), datetime.datetime(2020, 11, 20, 5, 40, 53), datetime.datetime(2020, 11, 20, 5, 33, 20), datetime.datetime(2020, 11, 20, 5, 31, 23), datetime.datetime(2020, 11, 20, 5, 21, 15), datetime.datetime(2020, 11, 20, 5, 10, 44), datetime.datetime(2020, 11, 20, 5, 7, 35), datetime.datetime(2020, 11, 20, 5, 4, 35), datetime.datetime(2020, 11, 20, 5, 4, 3), datetime.datetime(2020, 11, 20, 4, 55, 56), datetime.datetime(2020, 11, 20, 4, 55, 52), datetime.datetime(2020, 11, 20, 4, 55, 47), datetime.datetime(2020, 11, 20, 4, 45, 2), datetime.datetime(2020, 11, 20, 4, 36, 33), datetime.datetime(2020, 11, 20, 4, 30, 28), datetime.datetime(2020, 11, 20, 4, 22, 54), datetime.datetime(2020, 11, 20, 4, 20), datetime.datetime(2020, 11, 20, 4, 9, 31), datetime.datetime(2020, 11, 20, 3, 54, 12), datetime.datetime(2020, 11, 20, 3, 54, 12), datetime.datetime(2020, 11, 20, 3, 47, 54), datetime.datetime(2020, 11, 20, 3, 47, 2), datetime.datetime(2020, 11, 20, 3, 44), datetime.datetime(2020, 11, 20, 3, 39, 20), datetime.datetime(2020, 11, 20, 3, 34, 2), datetime.datetime(2020, 11, 20, 3, 27, 56), datetime.datetime(2020, 11, 20, 3, 25), datetime.datetime(2020, 11, 20, 3, 23, 30), datetime.datetime(2020, 11, 20, 3, 20, 19), datetime.datetime(2020, 11, 20, 3, 17), datetime.datetime(2020, 11, 20, 3, 8, 2), datetime.datetime(2020, 11, 20, 3, 4, 2), datetime.datetime(2020, 11, 20, 3, 0, 1), datetime.datetime(2020, 11, 20, 2, 59, 54), datetime.datetime(2020, 11, 20, 2, 56, 40), datetime.datetime(2020, 11, 20, 2, 52, 32), datetime.datetime(2020, 11, 20, 2, 51, 36), datetime.datetime(2020, 11, 20, 2, 44, 58), datetime.datetime(2020, 11, 20, 2, 39, 43), datetime.datetime(2020, 11, 20, 2, 39, 32), datetime.datetime(2020, 11, 20, 2, 39, 32), datetime.datetime(2020, 11, 20, 2, 30, 3), datetime.datetime(2020, 11, 20, 2, 24, 57), datetime.datetime(2020, 11, 20, 2, 23, 57), datetime.datetime(2020, 11, 20, 2, 13, 53), datetime.datetime(2020, 11, 20, 2, 13, 3), datetime.datetime(2020, 11, 20, 2, 12, 39), datetime.datetime(2020, 11, 20, 2, 10, 36), datetime.datetime(2020, 11, 20, 2, 6, 16), datetime.datetime(2020, 11, 20, 2, 5, 19), datetime.datetime(2020, 11, 20, 2, 0, 27), datetime.datetime(2020, 11, 20, 1, 41, 52), datetime.datetime(2020, 11, 20, 1, 40, 56), datetime.datetime(2020, 11, 20, 1, 33, 38), datetime.datetime(2020, 11, 20, 1, 16, 30), datetime.datetime(2020, 11, 20, 1, 11, 4), datetime.datetime(2020, 11, 20, 1, 5, 17), datetime.datetime(2020, 11, 20, 0, 48, 36), datetime.datetime(2020, 11, 20, 0, 15, 2), datetime.datetime(2020, 11, 20, 0, 10, 2)]\n"
     ]
    }
   ],
   "source": [
    "print(created)"
   ]
  },
  {
   "cell_type": "code",
   "execution_count": 9,
   "metadata": {},
   "outputs": [
    {
     "name": "stdout",
     "output_type": "stream",
     "text": [
      "['BORNEONEWS', 'shabani kajala', 'Geisz Chalifah', 'Tribunnews', 'Pikiran Rakyat', 'Moeslim Choice', 'Tan Sri Professor Dato Dr. Asmaliah', 'VOA Indonesia', 'Pikiran Rakyat', 'T.', 'Ms Erca', 'Mulastar', 'Farhad kermanshahi', 'Farhad kermanshahi', 'Mulastar', \"Erin's Note\", 'inilahcom', 'Panen Saham', 'REPUBLIK MERDEKA | RMOL.ID', 'Rakyat Sulsel Online', 'Rakyat Sulsel Online', 'TJMaxx 🇮🇳🇺🇸', '101.1 MGTRADIO Bandung', 'shiela', 'darkmatter', 'freemalik6', 'Akuratco', 'Asumsi', '20DETIK', 'CNN Indonesia', 'BBC News Swahili', 'detikcom', 'REPUBLIK MERDEKA | RMOL.ID', '🇲🇾Astro AWANI🇲🇾', 'Bisnis.com', '𝓩ulkifli𝓝azri', 'VOA Swahili', 'INDOZONE', 'amir fiqi', 'Kompas.com', 'Berita Terkini', 'Bisnis.com', 'ET News Indonesia', '🇲🇾Astro AWANI🇲🇾', 'Coach Andre Ridho', 'kumparan', 'detikcom', 'Clemente Mimun', 'INDOZONE', 'galamedianews.com', 'Tuit Pekanbaru', 'JPNN.com', 'Kamichi', 'SINDOnews', 'Antara Bengkulu', 'Kompas.com', 'GELORA NEWS', 'Intraday', 'Republika.co.id', 'Antara Jabar', 'Free Malaysia Today', 'antaranews.com', 'James Conran', '20DETIK', 'RRI Programa 3', 'Kompas.com', 'Kateycourt86', 'Ed Duco', 'New Simulator Devs', 'Warta Ekonomi']\n"
     ]
    }
   ],
   "source": [
    "print(name)"
   ]
  },
  {
   "cell_type": "code",
   "execution_count": 10,
   "metadata": {},
   "outputs": [
    {
     "name": "stdout",
     "output_type": "stream",
     "text": [
      "['BORNEONEWS', 'KajalaShabani', 'GeiszChalifah', 'tribunnews', 'pikiran_rakyat', 'moeslim_choice', '20052000_tan', 'voaindonesia', 'pikiran_rakyat', 'mjstiz', 'ErcaMs', 'Mulastar255', 'Taghbostan2', 'Taghbostan2', 'Mulastar255', 'erinsnote', 'inilahdotcom', 'PanenSaham', 'RMOLOfficial', 'RakyatSulsel', 'RakyatSulsel', 'TJMaxx_72', 'MGT_RADIO', 'shiestheman', 'reconWaRRioRs', 'freemalik611', 'akuratco', 'asumsico', '20detik', 'CNNIndonesia', 'bbcswahili', 'detikcom', 'RMOLOfficial', '501Awani', 'Bisniscom', 'zlk69', 'VOASwahili', 'indozonemedia', 'amirfiqi', 'kompascom', 'BeritaTerkinii', 'Bisniscom', 'ETNewsIndonesia', '501Awani', 'Motifighter', 'kumparan', 'detikcom', 'cjmimun', 'indozonemedia', 'galamedianews', 'TuitPekanbaru', 'jpnncom', 'Justkamichi', 'SINDOnews', 'ANTARABengkulu', 'kompascom', 'geloraco', 'IntradayDotMy', 'republikaonline', 'Antara_Jabar', 'fmtoday', 'antaranews', 'JamesConran1', '20detik', 'RRIPrograma3', 'kompascom', 'kateymccoo', 'HardBoiledEddie', 'devs_new', 'WartaEkonomi']\n"
     ]
    }
   ],
   "source": [
    "print(screenname)"
   ]
  },
  {
   "cell_type": "code",
   "execution_count": 11,
   "metadata": {},
   "outputs": [
    {
     "name": "stdout",
     "output_type": "stream",
     "text": [
      "['Central Borneo, Indonesia', 'Mara, Tanzania', '', 'Indonesia', 'Bandung, Jawa Barat', 'Jakarta Capital Region, Indone', 'Mekah', 'Washington, DC', 'Bandung, Jawa Barat', 'unknown', '', 'Dar es Salaam, Tanzania', 'zire aseman kabud', 'zire aseman kabud', 'Dar es Salaam, Tanzania', 'DKI Jakarta', 'Jakarta, Indonesia', 'Kelapa Gading-North Jakarta', 'Jakarta Pusat, DKI Jakarta', 'Indonesia', 'Indonesia', '', 'Bandung, West Java, Indonesia', 'Makati City, National Capital Region', '', '', 'DKI Jakarta, Indonesia', 'Jakarta Capital Region', 'JKT-INA', '', 'London', 'Jakarta, Indonesia', 'Jakarta Pusat, DKI Jakarta', 'Malaysia', 'Jakarta, Indonesia', '𝓢ubang𝓙aya @ 𝓾𝓼𝓳', 'Washington, DC', 'Indonesia', 'jakarta', 'Indonesia', 'Indonesia', 'Jakarta, Indonesia', '', 'Malaysia', '#Jakarta #Indonesia', '', 'Jakarta, Indonesia', 'roma ', 'Indonesia', 'Bandung, Indonesia', 'Sosial Media Pekanbaru', 'Indonesia', 'Knoxville, TN', 'Jakarta Pusat, DKI Jakarta', '', 'Indonesia', 'Indonesia', 'Malaysia', 'Jakarta, Indonesia', 'Indonesia', 'Malaysia', 'NKRI', 'Eugene, OR', 'JKT-INA', 'Jakarta Capital Region', 'Indonesia', 'UK', '', '', 'Jakarta, Indonesia']\n"
     ]
    }
   ],
   "source": [
    "print(location)"
   ]
  },
  {
   "cell_type": "code",
   "execution_count": 12,
   "metadata": {},
   "outputs": [
    {
     "name": "stdout",
     "output_type": "stream",
     "text": [
      "[datetime.datetime(2010, 10, 26, 4, 48, 39), datetime.datetime(2017, 9, 23, 18, 55, 42), datetime.datetime(2020, 8, 23, 12, 27, 25), datetime.datetime(2010, 3, 18, 13, 56, 22), datetime.datetime(2009, 7, 21, 18, 48, 20), datetime.datetime(2017, 12, 8, 10, 47, 6), datetime.datetime(2014, 4, 21, 3, 30, 8), datetime.datetime(2009, 9, 17, 18, 19, 35), datetime.datetime(2009, 7, 21, 18, 48, 20), datetime.datetime(2009, 5, 31, 4, 16, 25), datetime.datetime(2020, 9, 1, 5, 1, 54), datetime.datetime(2019, 9, 23, 13, 41, 33), datetime.datetime(2016, 5, 15, 7, 21, 16), datetime.datetime(2016, 5, 15, 7, 21, 16), datetime.datetime(2019, 9, 23, 13, 41, 33), datetime.datetime(2011, 11, 28, 10, 56, 52), datetime.datetime(2009, 6, 12, 16, 51), datetime.datetime(2014, 7, 10, 5, 14, 59), datetime.datetime(2014, 4, 6, 13, 8, 50), datetime.datetime(2012, 5, 12, 13, 34, 9), datetime.datetime(2012, 5, 12, 13, 34, 9), datetime.datetime(2019, 1, 29, 5, 18, 13), datetime.datetime(2009, 7, 21, 19, 9, 36), datetime.datetime(2012, 4, 3, 0, 15, 57), datetime.datetime(2019, 5, 25, 6, 8, 23), datetime.datetime(2020, 11, 15, 18, 20, 29), datetime.datetime(2016, 10, 13, 12, 49, 10), datetime.datetime(2017, 2, 8, 16, 29, 29), datetime.datetime(2012, 6, 4, 5, 19, 47), datetime.datetime(2008, 11, 3, 11, 13, 25), datetime.datetime(2008, 12, 17, 10, 29, 53), datetime.datetime(2009, 8, 27, 3, 3, 5), datetime.datetime(2014, 4, 6, 13, 8, 50), datetime.datetime(2012, 2, 20, 7, 13, 13), datetime.datetime(2010, 3, 1, 9, 56, 53), datetime.datetime(2010, 5, 8, 8, 30, 19), datetime.datetime(2011, 1, 12, 23, 53, 10), datetime.datetime(2011, 8, 8, 4, 3, 40), datetime.datetime(2011, 7, 10, 1, 39), datetime.datetime(2009, 3, 8, 19, 32, 4), datetime.datetime(2012, 12, 9, 6, 12, 3), datetime.datetime(2010, 3, 1, 9, 56, 53), datetime.datetime(2017, 10, 7, 5, 8, 58), datetime.datetime(2012, 2, 20, 7, 13, 13), datetime.datetime(2011, 7, 16, 4, 44, 44), datetime.datetime(2016, 7, 31, 10, 10, 42), datetime.datetime(2009, 8, 27, 3, 3, 5), datetime.datetime(2012, 3, 12, 8, 39, 21), datetime.datetime(2011, 8, 8, 4, 3, 40), datetime.datetime(2014, 6, 8, 4, 23, 39), datetime.datetime(2012, 10, 28, 2, 28, 29), datetime.datetime(2009, 10, 2, 8, 23, 26), datetime.datetime(2012, 4, 20, 9, 13, 22), datetime.datetime(2010, 12, 28, 8, 22, 15), datetime.datetime(2011, 11, 28, 7, 10, 16), datetime.datetime(2009, 3, 8, 19, 32, 4), datetime.datetime(2015, 8, 18, 22, 24, 36), datetime.datetime(2014, 6, 18, 17, 16, 11), datetime.datetime(2009, 2, 27, 10, 20, 30), datetime.datetime(2018, 10, 5, 7, 49, 21), datetime.datetime(2010, 1, 5, 16, 17, 15), datetime.datetime(2008, 12, 12, 6, 15, 26), datetime.datetime(2011, 9, 6, 0, 58, 41), datetime.datetime(2012, 6, 4, 5, 19, 47), datetime.datetime(2013, 1, 29, 3, 25, 51), datetime.datetime(2009, 3, 8, 19, 32, 4), datetime.datetime(2020, 11, 5, 20, 58, 49), datetime.datetime(2020, 9, 28, 23, 31, 38), datetime.datetime(2020, 10, 12, 22, 57, 58), datetime.datetime(2009, 4, 12, 7, 1, 14)]\n"
     ]
    }
   ],
   "source": [
    "print(acc_created)"
   ]
  },
  {
   "cell_type": "code",
   "execution_count": 13,
   "metadata": {},
   "outputs": [
    {
     "name": "stdout",
     "output_type": "stream",
     "text": [
      "[7730, 3223, 38288, 1061769, 427032, 139, 35, 311666, 427032, 37, 189, 51, 554, 554, 51, 1827, 366528, 929, 134928, 17685, 17685, 268, 41532, 191, 1038, 2, 8004, 200951, 82238, 1338019, 702799, 16341299, 134928, 2105161, 1042532, 2121, 19438, 1784426, 228, 7890446, 367, 1042532, 362, 2105161, 1411, 581834, 16341299, 60030, 1784426, 15137, 404, 53899, 2468, 289518, 2394, 7890446, 180290, 2138, 1407706, 3842, 161949, 1138578, 456, 82238, 9022, 7890446, 8, 34, 5, 22598]\n"
     ]
    }
   ],
   "source": [
    "print(follower)"
   ]
  },
  {
   "cell_type": "code",
   "execution_count": 14,
   "metadata": {},
   "outputs": [
    {
     "name": "stdout",
     "output_type": "stream",
     "text": [
      "[2570, 4995, 128, 519, 18, 276, 178, 391, 18, 573, 262, 128, 856, 856, 128, 834, 4, 9, 195, 29, 29, 398, 384, 703, 29, 35, 17, 3, 10, 23, 171, 30, 195, 333, 36, 2692, 203, 0, 232, 25, 1, 36, 29, 333, 716, 2, 30, 480, 0, 290, 32, 0, 10, 195, 728, 25, 2411, 1, 57, 3109, 3, 141, 894, 10, 102, 25, 29, 724, 41, 2299]\n"
     ]
    }
   ],
   "source": [
    "print(friend)"
   ]
  },
  {
   "cell_type": "code",
   "execution_count": 15,
   "metadata": {},
   "outputs": [
    {
     "name": "stdout",
     "output_type": "stream",
     "text": [
      "[False, False, False, False, True, False, False, True, True, False, False, False, False, False, False, False, False, False, False, False, False, False, False, False, False, False, False, False, False, True, True, True, False, True, True, False, True, False, False, True, False, True, False, True, False, True, True, False, False, False, False, True, False, True, False, True, False, False, True, False, False, True, False, False, True, True, False, False, False, False]\n"
     ]
    }
   ],
   "source": [
    "print(verified)"
   ]
  },
  {
   "cell_type": "code",
   "execution_count": 21,
   "metadata": {},
   "outputs": [
    {
     "name": "stdout",
     "output_type": "stream",
     "text": [
      "['biden tolak trump milu bertanggungjawab', 'kwa hiyo na marekani hawapewi misaada hiyo mhe donald trump analalamika kaibiwa kura anadai kwamba mhe joe biden alikuwa na mabegi ya kura zilizokwisha pigwa zikawa zinatumbukizwa kwenye masanduku kama dunia ingefata akil zenu hakuna nchi hata moja ingepata misaada yenu hiyo', 'ga trump mr joe biden', 'hasil hitung ulang suara georgia trump kalah biden sebut trump presiden tanggung sejarah amerika', 'joe biden donald trump presiden tanggung sejarah as', 'geram biden trump internasional', 'trump eai hiau kuan bi joe biden xi chi kor kai nang bei hiau kuan bi', 'biden strategi trump tolak aku kalah', 'joe biden donald trump presiden tanggung sejarah as', 'sesi masalah ujung perkara trump biden', 'tz nenda kwenye acc ya trump ukitoka hao ingia ya rais mteule biden halafu urudi hapa vidole vipo vitano lakini kamwe havilingani na hauwezi kula muwa kukutana na fundo usiishi maisha ya visasi na ya kutaka kufurahishwa na kl mtu mwanadamu sio mkamilifu', 'rais wa marekani donald trump amewaalika wabunge muhimu wa chama cha republican kutoka jimbo la michigan kwa mkutano katika white house leo ijumaa baada ya kushindwa katika kesi alizofikisha mahakamani pinga ushindi wa rais mteule joe biden gt gt gt', 'srf motavajeh shodam ghorban na tarafdar biden va na trump dige bahsi baghi nemimone bebakhshid az in vaghteton ra greftam', 'srf pas tarafdar biden ham nistid va az trump ham khoshetan nemiad khob pas chi akhe hame yek taraf ra hemayet mikonand ya bayed intarafi bashid ya on taraf bebakhshid vaghteton ra greftam rooz bekhair', 'rais mteule wa marekani joe biden amelaani kitendo cha donald trump bal kuwa ameshindwa katika uchaguzi wa rais amesema kuwa anatuma ujumbe mbaya kuhusu marekani gt gt gt gt gt', 'pakar hukum milu keras usaha trump guling hasil pilpres biden masuk oval office januari trumptantrum trumpvsbiden', 'biden sulit paham pikir trump', 'hitung ulang suara presiden pilih joe biden tahan unggul sempit tentu sebab mundur upaya presiden donald trump batal hasil', 'pakar hukum milu keras usaha trump guling hasil pilpres biden masuk oval office januari', 'nyata keras biden trump pakai keri', 'new post nyata keras biden trump pakai keri has been published on rakyat sulsel', 'choose between lesser evil trump vs soros hillary biden ccp aoc ilhan omar rashida tlaib antifa blm', 'mgtnews presiden pilih amerika serikat joe biden singgung sikap donald trump aku hasil milu as milu biden kalah trump capres tahana', 'georgia', 'sidney powell perwira militer pangkat partisipasi serang besar michigan georgia pennsylvania pola massive vote dumps buang suara masif', 'mohon maaf mr trump liberalisme bangkit', 'dukung trump ngamuk menang joe biden', 'presiden as pilih joe biden menang negara georgia hitung ulang lansir ap trump suara kejar suara biden biden menang georgia', 'biden trump presiden tanggung as', 'biden tuduh trump rusak demokrasi tolak aku kalah', 'biden amesema trump alijua kuwa hawezi kushinda uchaguzi', 'joe biden lontar kritik tajam donald trump kait upaya balik hasil pilpres as biden sebut trump presiden tanggung sejarah amerika joebiden donaldtrump', 'biden trump cap salah presiden tanggung sejarah amerika trump', 'biden oleh undi pilih raya banding trump undi elektoral negeri tentu menang pilih raya awaninews awanipagi asmemilih', 'biden sikap trump keri', 'trump presiden bertanggungjawab sejarah as biden astro awan', 'rais mteule joe biden amemshambulia rais trump kwa kuzuia taarifa muhimu za hal ya kitaifa na kimataifa ambazo zinatakiwa kumfikia katika wakati huu wa kipindi cha mpito baada ya uchaguzi mkuu kabla ya kuapishwa', 'presiden pilih amerika serikat joe biden tolak presiden as donald trump hasil pilih presiden november tanggung kamuharustau', 'joe biden geleng geleng kepala laku donald trump', 'presiden pilih joe biden kecam donald trump salah presiden tanggung sejarah amerika global', 'biden tolak trump milu tanggung', 'gugat trump gugur suara negara georgia menang biden', 'direktur usaha sedia mesin milu as tim transisi biden trump this is crazy nonton video lengkap usaha mesinpemiluas joebiden', 'laku awaninews awanipagi asmemilih', 'trump kalah informasi media mainstream kalo joe biden menang pilpres setting globalist cabal yg kuasa media main saudara saudara trumpbelumkalah', 'joe biden unggul donald trump hitung ulang suara georgia kumparannews', 'hasil audit suara pilpres as negara georgia kukuh menang joe biden presiden donald trump joebiden georgia', 'usa risultati georgia biden trump', 'presiden pilih amerika serikat joe biden sebut tolak presiden tahana donald trump hasil pilih presiden november sikap tanggung kamuharustau', 'donald trump aju tuntut hukum biden langsung reaksi', 'kecam donald trump joe biden presiden tanggung sejarah amerika', 'joe biden nyata keras donald trump kait hasil pilpres as joebiden', 'trump arongeye aratsinzwe byemejwe na audit bidasubirwaho ko amajwi ya state ya georgia ari aya joe biden muri iyo audit amajwi arenga atar yabazwe uwar ukuriye aho yabarirwaga yasabiwe kwirukana kuko ari ubwa mu mezi afatiwe ikosa', 'hitung ulang pilpres as georgia tegas menang biden trump', 'biden tolak trump milu bertanggungjawab news bengkulu', 'joe biden tolak trump hasil pilih presiden amerika pengaruh tangan pandemi covid', 'biden trump cap salah presiden tanggung sejarah amerika', 'umum buat peluang trump ubah putus pilih raya tipis baca', 'biden unggul suara tipis presiden donald trump georgia', 'joe biden tolak trump hasil milu bertanggungjawab news jawa barat', 'audit manual mula lepas putus rasmi biden dahulu donald trump undi fmtnews joebiden georgia pilihanrayaamerikasyarikat', 'joe biden sebut tolak donald trump hasil pilih presiden november tanggung biden trump', 'palsingh otoh', 'biden trump presiden as tanggung', 'langkah panik kubu trump guling menang biden co id', 'presiden pilih joe biden kecam donald trump salah presiden tanggung sejarah amerika', 'boom shakalaka', 'lgaa', 'log vs ksi trump vs biden winner biden', 'gegara jegal trump biden sulit tangan corona as']\n"
     ]
    }
   ],
   "source": [
    "clean_text = data.clean_data(text)\n",
    "print(clean_text)"
   ]
  },
  {
   "cell_type": "markdown",
   "metadata": {},
   "source": [
    "# Tabel Lastscraping"
   ]
  },
  {
   "cell_type": "code",
   "execution_count": 24,
   "metadata": {},
   "outputs": [],
   "source": [
    "data.save_sql(clean_text,'lastscraping')"
   ]
  },
  {
   "cell_type": "markdown",
   "metadata": {},
   "source": [
    "# Tabel Tweet"
   ]
  },
  {
   "cell_type": "code",
   "execution_count": 25,
   "metadata": {},
   "outputs": [],
   "source": [
    "data.save_sql(clean_text,'tweet')"
   ]
  },
  {
   "cell_type": "markdown",
   "metadata": {},
   "source": [
    "# Tabel User"
   ]
  },
  {
   "cell_type": "code",
   "execution_count": 26,
   "metadata": {},
   "outputs": [],
   "source": [
    "data.save_sql(clean_text,'user')"
   ]
  },
  {
   "cell_type": "markdown",
   "metadata": {},
   "source": [
    "# Reset Status Scraping"
   ]
  },
  {
   "cell_type": "code",
   "execution_count": 27,
   "metadata": {},
   "outputs": [],
   "source": [
    "data.reset_scraping()"
   ]
  },
  {
   "cell_type": "code",
   "execution_count": 28,
   "metadata": {},
   "outputs": [],
   "source": [
    "connect.close()"
   ]
  },
  {
   "cell_type": "code",
   "execution_count": null,
   "metadata": {},
   "outputs": [],
   "source": []
  }
 ],
 "metadata": {
  "kernelspec": {
   "display_name": "Python 3",
   "language": "python",
   "name": "python3"
  },
  "language_info": {
   "codemirror_mode": {
    "name": "ipython",
    "version": 3
   },
   "file_extension": ".py",
   "mimetype": "text/x-python",
   "name": "python",
   "nbconvert_exporter": "python",
   "pygments_lexer": "ipython3",
   "version": "3.8.3"
  }
 },
 "nbformat": 4,
 "nbformat_minor": 4
}
